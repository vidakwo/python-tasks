{
 "cells": [
  {
   "cell_type": "code",
   "execution_count": 21,
   "metadata": {},
   "outputs": [
    {
     "data": {
      "text/html": [
       "        <script type=\"text/javascript\">\n",
       "        window.PlotlyConfig = {MathJaxConfig: 'local'};\n",
       "        if (window.MathJax && window.MathJax.Hub && window.MathJax.Hub.Config) {window.MathJax.Hub.Config({SVG: {font: \"STIX-Web\"}});}\n",
       "        if (typeof require !== 'undefined') {\n",
       "        require.undef(\"plotly\");\n",
       "        requirejs.config({\n",
       "            paths: {\n",
       "                'plotly': ['https://cdn.plot.ly/plotly-2.27.0.min']\n",
       "            }\n",
       "        });\n",
       "        require(['plotly'], function(Plotly) {\n",
       "            window._Plotly = Plotly;\n",
       "        });\n",
       "        }\n",
       "        </script>\n",
       "        "
      ]
     },
     "metadata": {},
     "output_type": "display_data"
    },
    {
     "data": {
      "text/html": [
       "        <script type=\"text/javascript\">\n",
       "        window.PlotlyConfig = {MathJaxConfig: 'local'};\n",
       "        if (window.MathJax && window.MathJax.Hub && window.MathJax.Hub.Config) {window.MathJax.Hub.Config({SVG: {font: \"STIX-Web\"}});}\n",
       "        if (typeof require !== 'undefined') {\n",
       "        require.undef(\"plotly\");\n",
       "        requirejs.config({\n",
       "            paths: {\n",
       "                'plotly': ['https://cdn.plot.ly/plotly-2.27.0.min']\n",
       "            }\n",
       "        });\n",
       "        require(['plotly'], function(Plotly) {\n",
       "            window._Plotly = Plotly;\n",
       "        });\n",
       "        }\n",
       "        </script>\n",
       "        "
      ]
     },
     "metadata": {},
     "output_type": "display_data"
    }
   ],
   "source": [
    "import matplotlib.pyplot as plt\n",
    "import numpy as np\n",
    "import pandas as pd\n",
    "import matplotlib as mpl\n",
    "import chart_studio.plotly as py\n",
    "import cufflinks as cf\n",
    "import seaborn as sns\n",
    "import plotly.express as px\n",
    "import plotly.graph_objects as go \n",
    "%matplotlib inline\n",
    "\n",
    "from plotly.offline import download_plotlyjs, init_notebook_mode, plot, iplot\n",
    "init_notebook_mode(connected=True)\n",
    "cf.go_offline()\n"
   ]
  },
  {
   "cell_type": "code",
   "execution_count": 22,
   "metadata": {},
   "outputs": [],
   "source": [
    "data = pd.read_excel('/Users/a1111/Desktop/Master in Digital Health/Third Semester/Thesis/Journal/AI_Research.xlsx')"
   ]
  },
  {
   "cell_type": "code",
   "execution_count": 23,
   "metadata": {},
   "outputs": [
    {
     "data": {
      "text/plain": [
       "Index(['Unnamed: 0', 'CASE', 'SERIAL', 'LANGUAGE', 'A101', 'A101_06', 'A102',\n",
       "       'CO01', 'DT01', 'DT02', 'DT03', 'DT04', 'ET01', 'ET02', 'ET03', 'GG01',\n",
       "       'GG01_01', 'GG01_02', 'GG01_03', 'GG01_04', 'GG01_05', 'GG01_06',\n",
       "       'GG01_07', 'GG01_08', 'GG01_09', 'GG01_09a', 'GG02', 'GG02_01',\n",
       "       'GG02_02', 'GG02_03', 'GG02_04', 'GG02_05', 'GG02_06', 'GG02_07',\n",
       "       'GG02_08', 'GG02_09', 'GG02_10', 'GG02_11', 'GG02_12', 'GG02_13',\n",
       "       'GG02_14', 'KG01', 'KG02', 'KG03', 'KG04', 'KG04_01', 'KG04_02',\n",
       "       'KG04_03', 'KG04_04', 'KG04_05', 'KG04_06', 'KG04_06a', 'KG05', 'KG06',\n",
       "       'NT01_01', 'RE01', 'RE02', 'SP01_01', 'SP01_02', 'SP01_03', 'SP01_04',\n",
       "       'SP01_05', 'SP01_06', 'SP01_07', 'SP01_08', 'SP01_09', 'CM01', 'CM02'],\n",
       "      dtype='object')"
      ]
     },
     "execution_count": 23,
     "metadata": {},
     "output_type": "execute_result"
    }
   ],
   "source": [
    "data.columns"
   ]
  },
  {
   "cell_type": "code",
   "execution_count": 19,
   "metadata": {},
   "outputs": [],
   "source": [
    "#defining a color sequence for the charts\n",
    "color_sequence = ['#161d34', '#1c3052', '#3a4a72', '#64739b', '#a1a9c4', '#cad1e0']"
   ]
  },
  {
   "cell_type": "code",
   "execution_count": 37,
   "metadata": {},
   "outputs": [],
   "source": [
    "\n",
    "\n",
    "# Adding a 'count' column with all values set to 1\n",
    "data['count'] = 1\n",
    "\n",
    "# Grouping by 'A101' and counting occurrences\n",
    "job_values = data.groupby('A101').count()['count']\n",
    "\n",
    "# Defining the job tags - make sure these match the unique values in 'A101' after grouping\n",
    "job_labels = [\"Doctors\", \"Nurses\", \"Hospital Administrators\", \"Health IT Specialists\", \"Medical Researchers\", \"Others\"]\n",
    "\n",
    "# Combine the job labels with their corresponding frequencies\n",
    "combined_labels = [f'{label}: {freq}' for label, freq in zip(job_labels, job_values)]\n",
    "\n",
    "# Create the pie chart with the combined labels\n",
    "jobs = px.pie(names=combined_labels, values=job_values, color_discrete_sequence=px.colors.sequential.Blues_r, template=\"plotly_white\", title = \"Which of the groups below best describes you?\")\n",
    "\n",
    "# Set the textinfo to display the percentage on the chart\n",
    "jobs.update_traces(textinfo='percent', insidetextorientation='radial')\n",
    "jobs.update_traces(rotation=0)\n",
    "jobs.update_layout(width=1200, height=800)\n",
    "\n",
    "#jobs.update_layout( margin={\"l\": 0, \"r\": 0, \"t\": 0, \"b\": 0},autosize=False,)\n",
    "# Save the image\n",
    "jobs.write_image('/Users/a1111/Desktop/Master in Digital Health/Third Semester/Thesis/Journal/job_distribution.png', width=1200, height=800)\n"
   ]
  }
 ],
 "metadata": {
  "kernelspec": {
   "display_name": "Python 3",
   "language": "python",
   "name": "python3"
  },
  "language_info": {
   "codemirror_mode": {
    "name": "ipython",
    "version": 3
   },
   "file_extension": ".py",
   "mimetype": "text/x-python",
   "name": "python",
   "nbconvert_exporter": "python",
   "pygments_lexer": "ipython3",
   "version": "3.7.6"
  }
 },
 "nbformat": 4,
 "nbformat_minor": 2
}
